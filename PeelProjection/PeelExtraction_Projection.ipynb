{
 "cells": [
  {
   "cell_type": "code",
   "execution_count": 1,
   "metadata": {},
   "outputs": [],
   "source": [
    "from math import sqrt\n",
    "from skimage.color import rgb2gray\n",
    "from skimage import io\n",
    "from skimage import filters\n",
    "from skimage.util import crop\n",
    "from skimage.util import invert\n",
    "from PIL import Image\n",
    "import matplotlib.pyplot as plt\n",
    "import numpy as np\n",
    "import pandas as pd\n",
    "import os\n",
    "import os.path\n",
    "import skimage as skimage\n",
    "from skimage import morphology\n",
    "from scipy import ndimage"
   ]
  },
  {
   "cell_type": "code",
   "execution_count": 2,
   "metadata": {},
   "outputs": [],
   "source": [
    "surfaceDistance = 1 ## here you can control how far the slice should be distant to the surface of the mask\n",
    "safetyBorder = 3    ## the number of bottom and top slices that will be set to zero (to prevent mask border touching the image border)\n",
    "padding = 1       ## can be used to extract thicker peels"
   ]
  },
  {
   "cell_type": "code",
   "execution_count": 8,
   "metadata": {},
   "outputs": [],
   "source": [
    "def SurfaceExtraction(maskImage,rawImage):    \n",
    "    ##set border part to zero to prevent masks touching the border\n",
    "    maskImage[:, :, 1:safetyBorder] = 0\n",
    "    maskImage[:, :, -1:-(safetyBorder+1)] = 0\n",
    "    maskImage = morphology.closing(maskImage)\n",
    "    maskImage = ndimage.distance_transform_edt(maskImage)\n",
    "    maskImage = ndimage.gaussian_filter(maskImage, sigma =1)\n",
    "    maskImage = (maskImage > (surfaceDistance-padding)) & (maskImage < (surfaceDistance+padding))\n",
    "\n",
    "    ##flip the image to have the XZ cross section\n",
    "    rotatedRawImage = ndimage.rotate(rawImage, 90, (0,2))\n",
    "    rotatedMaskImage = ndimage.rotate(maskImage, 90, (0,2))\n",
    "\n",
    "    ##label the surface regions and extract their volume\n",
    "    labeledShellImage, number_of_objects = ndimage.label(rotatedMaskImage)\n",
    "    regionProps = skimage.measure.regionprops(labeledShellImage)\n",
    "    volumes = []\n",
    "    pixelIdxLists = []\n",
    "    for i in range (0,number_of_objects): \n",
    "        if regionProps[i].area > 5000:## minimum volume bounded by a surface\n",
    "            volumes = np.append(volumes,regionProps[i].area)\n",
    "            pixelIdxLists = np.append(pixelIdxLists,regionProps[i].coords)\n",
    "            print (i, regionProps[i].area)\n",
    "    a = len(pixelIdxLists)/3       \n",
    "    pixelIdxLists = pixelIdxLists.reshape((int(a),3))\n",
    "    \n",
    "    ##identify the inner and outer surface based on volume\n",
    "    SurfaceOne = np.zeros(rotatedMaskImage.shape)\n",
    "    for i in range (0,int(volumes[0]+1)):\n",
    "        ao,bo,co = pixelIdxLists[i]\n",
    "        SurfaceOne[int(ao),int(bo),int(co)] = rotatedRawImage[int(ao),int(bo),int(co)]\n",
    "\n",
    "    SurfaceTwo = np.zeros(rotatedMaskImage.shape)\n",
    "    for i in range (int(volumes[0]+1),int(volumes[1])+1):\n",
    "        ai,bi,ci = pixelIdxLists[i]\n",
    "        SurfaceTwo[int(ai),int(bi),int(ci)] = rotatedRawImage[int(ai),int(bi),int(ci)]\n",
    "        \n",
    "    if volumes[0]>volumes[1]:\n",
    "        outerSurface = SurfaceOne\n",
    "        innerSurface = SurfaceTwo\n",
    "    if volumes[0]<volumes[1]:\n",
    "        outerSurface = SurfaceTwo\n",
    "        innerSurface = SurfaceOne        \n",
    "    \n",
    "    return outerSurface,innerSurface"
   ]
  },
  {
   "cell_type": "code",
   "execution_count": 62,
   "metadata": {},
   "outputs": [],
   "source": [
    "def ind2sub(array_shape, ind):\n",
    "    ind[ind < 0] = -1\n",
    "    ind[ind >= array_shape[0]*array_shape[1]] = -1\n",
    "    rows = (ind.astype('int') / array_shape[1])\n",
    "    cols = ind % array_shape[1]\n",
    "    return (rows, cols)\n",
    "\n",
    "def SurfaceProjection(rawImage):\n",
    "    ##get the image size\n",
    "    imageSize = rawImage.shape\n",
    "    \n",
    "    ##initialize the result image and the start location\n",
    "    resultImage = np.zeros([imageSize[2], 3000]);    \n",
    "    startLocation = [];\n",
    "    \n",
    "    ##extract the valid peel pixels\n",
    "    for i in  range (1,imageSize[2]):\n",
    "    ##get the current slice and skeletonize the peel to have only one pixel thick boundaries\n",
    "    ##use the peel to mask the raw image\n",
    "        currentSlice = np.squeeze(rawImage[:,:,i])         \n",
    "        currentSliceBinary = morphology.medial_axis((currentSlice > 0))\n",
    "        currentSlice = currentSlice * currentSliceBinary\n",
    "        a,b = currentSlice.shape\n",
    "        \n",
    "    ##initialize the visited pixels array and extract the valid pixels\n",
    "        visitedPixels = np.zeros([int(a),int(b)])\n",
    "        validPixels = currentSlice > 0\n",
    "        [xpos, ypos] = ind2sub([int(a),int(b)], validPixels)\n",
    "        positions = np.sort(np.reshape([xpos, ypos],[-2,1]))\n",
    "        \n",
    "    ##set the start location as the lowest, right-most mask pixel\n",
    "    ##start positions at subsequent slices are based on a nearest neighbor search to the previous location\n",
    "        if (len(startLocation)>0):\n",
    "            startLocation = positions[0,:]\n",
    "        else:\n",
    "            distances = sqrt((positions[0,:] - startLocation[0])**2 + (positions[:,1] - startLocation[1])**2)\n",
    "            [minDist, minIndex] = min(distances)\n",
    "            startLocation = positions[minIndex,:]\n",
    "\n",
    "        previousNeighbor = 1\n",
    "    \n",
    "    return startLocation\n"
   ]
  },
  {
   "cell_type": "code",
   "execution_count": 104,
   "metadata": {},
   "outputs": [
    {
     "data": {
      "text/plain": [
       "0"
      ]
     },
     "execution_count": 104,
     "metadata": {},
     "output_type": "execute_result"
    }
   ],
   "source": [
    "int(positions[0,:])"
   ]
  },
  {
   "cell_type": "code",
   "execution_count": 86,
   "metadata": {},
   "outputs": [],
   "source": [
    "startLocation=[2,4]"
   ]
  },
  {
   "cell_type": "code",
   "execution_count": 99,
   "metadata": {},
   "outputs": [
    {
     "ename": "TypeError",
     "evalue": "only size-1 arrays can be converted to Python scalars",
     "output_type": "error",
     "traceback": [
      "\u001b[0;31m---------------------------------------------------------------------------\u001b[0m",
      "\u001b[0;31mTypeError\u001b[0m                                 Traceback (most recent call last)",
      "\u001b[0;32m<ipython-input-99-b4c3bc41e9c5>\u001b[0m in \u001b[0;36m<module>\u001b[0;34m\u001b[0m\n\u001b[0;32m----> 1\u001b[0;31m \u001b[0;34m(\u001b[0m\u001b[0mint\u001b[0m\u001b[0;34m(\u001b[0m\u001b[0mpositions\u001b[0m\u001b[0;34m[\u001b[0m\u001b[0;34m:\u001b[0m\u001b[0;34m,\u001b[0m\u001b[0;36m0\u001b[0m\u001b[0;34m]\u001b[0m\u001b[0;34m)\u001b[0m \u001b[0;34m-\u001b[0m \u001b[0mint\u001b[0m\u001b[0;34m(\u001b[0m\u001b[0mstartLocation\u001b[0m\u001b[0;34m[\u001b[0m\u001b[0;36m1\u001b[0m\u001b[0;34m]\u001b[0m\u001b[0;34m)\u001b[0m\u001b[0;34m**\u001b[0m\u001b[0;36m2\u001b[0m\u001b[0;34m)\u001b[0m\u001b[0;34m\u001b[0m\u001b[0;34m\u001b[0m\u001b[0m\n\u001b[0m",
      "\u001b[0;31mTypeError\u001b[0m: only size-1 arrays can be converted to Python scalars"
     ]
    }
   ],
   "source": [
    "(int(positions[:,0]) - int(startLocation[1])**2)"
   ]
  },
  {
   "cell_type": "code",
   "execution_count": 94,
   "metadata": {},
   "outputs": [
    {
     "ename": "IndexError",
     "evalue": "index 1 is out of bounds for axis 1 with size 1",
     "output_type": "error",
     "traceback": [
      "\u001b[0;31m---------------------------------------------------------------------------\u001b[0m",
      "\u001b[0;31mIndexError\u001b[0m                                Traceback (most recent call last)",
      "\u001b[0;32m<ipython-input-94-cec7e6a4bc64>\u001b[0m in \u001b[0;36m<module>\u001b[0;34m\u001b[0m\n\u001b[0;32m----> 1\u001b[0;31m \u001b[0mdistances\u001b[0m \u001b[0;34m=\u001b[0m \u001b[0msqrt\u001b[0m\u001b[0;34m(\u001b[0m\u001b[0;34m(\u001b[0m\u001b[0mint\u001b[0m\u001b[0;34m(\u001b[0m\u001b[0mpositions\u001b[0m\u001b[0;34m[\u001b[0m\u001b[0;36m0\u001b[0m\u001b[0;34m,\u001b[0m\u001b[0;34m:\u001b[0m\u001b[0;34m]\u001b[0m\u001b[0;34m)\u001b[0m \u001b[0;34m-\u001b[0m \u001b[0mint\u001b[0m\u001b[0;34m(\u001b[0m\u001b[0mstartLocation\u001b[0m\u001b[0;34m[\u001b[0m\u001b[0;36m0\u001b[0m\u001b[0;34m]\u001b[0m\u001b[0;34m)\u001b[0m\u001b[0;34m)\u001b[0m\u001b[0;34m**\u001b[0m\u001b[0;36m2\u001b[0m \u001b[0;34m+\u001b[0m \u001b[0;34m(\u001b[0m\u001b[0mint\u001b[0m\u001b[0;34m(\u001b[0m\u001b[0mpositions\u001b[0m\u001b[0;34m[\u001b[0m\u001b[0;34m:\u001b[0m\u001b[0;34m,\u001b[0m\u001b[0;36m1\u001b[0m\u001b[0;34m]\u001b[0m\u001b[0;34m)\u001b[0m \u001b[0;34m-\u001b[0m \u001b[0mint\u001b[0m\u001b[0;34m(\u001b[0m\u001b[0mstartLocation\u001b[0m\u001b[0;34m[\u001b[0m\u001b[0;36m1\u001b[0m\u001b[0;34m]\u001b[0m\u001b[0;34m)\u001b[0m\u001b[0;34m**\u001b[0m\u001b[0;36m2\u001b[0m\u001b[0;34m)\u001b[0m\u001b[0;34m)\u001b[0m\u001b[0;34m\u001b[0m\u001b[0;34m\u001b[0m\u001b[0m\n\u001b[0m\u001b[1;32m      2\u001b[0m \u001b[0;34m[\u001b[0m\u001b[0mminDist\u001b[0m\u001b[0;34m,\u001b[0m \u001b[0mminIndex\u001b[0m\u001b[0;34m]\u001b[0m \u001b[0;34m=\u001b[0m \u001b[0mmin\u001b[0m\u001b[0;34m(\u001b[0m\u001b[0mdistances\u001b[0m\u001b[0;34m)\u001b[0m\u001b[0;34m\u001b[0m\u001b[0;34m\u001b[0m\u001b[0m\n\u001b[1;32m      3\u001b[0m \u001b[0mstartLocation\u001b[0m \u001b[0;34m=\u001b[0m \u001b[0mpositions\u001b[0m\u001b[0;34m[\u001b[0m\u001b[0mminIndex\u001b[0m\u001b[0;34m,\u001b[0m\u001b[0;34m:\u001b[0m\u001b[0;34m]\u001b[0m\u001b[0;34m\u001b[0m\u001b[0;34m\u001b[0m\u001b[0m\n",
      "\u001b[0;31mIndexError\u001b[0m: index 1 is out of bounds for axis 1 with size 1"
     ]
    }
   ],
   "source": [
    "distances = sqrt((int(positions[0,:]) - int(startLocation[0]))**2 + (int(positions[:,1]) - int(startLocation[1])**2))\n",
    "[minDist, minIndex] = min(distances)\n",
    "startLocation = positions[minIndex,:]"
   ]
  },
  {
   "cell_type": "code",
   "execution_count": 93,
   "metadata": {},
   "outputs": [
    {
     "ename": "SyntaxError",
     "evalue": "invalid syntax (<ipython-input-93-67150b4cb2a2>, line 2)",
     "output_type": "error",
     "traceback": [
      "\u001b[0;36m  File \u001b[0;32m\"<ipython-input-93-67150b4cb2a2>\"\u001b[0;36m, line \u001b[0;32m2\u001b[0m\n\u001b[0;31m    min(distances)\u001b[0m\n\u001b[0m      ^\u001b[0m\n\u001b[0;31mSyntaxError\u001b[0m\u001b[0;31m:\u001b[0m invalid syntax\n"
     ]
    }
   ],
   "source": [
    "distances = sqrt((int(positions[0,:]) - int(startLocation[0]))**2 + (int(positions[:,1]) - int(startLocation[1])**2)\n"
   ]
  },
  {
   "cell_type": "code",
   "execution_count": 76,
   "metadata": {},
   "outputs": [
    {
     "ename": "IndexError",
     "evalue": "list index out of range",
     "output_type": "error",
     "traceback": [
      "\u001b[0;31m---------------------------------------------------------------------------\u001b[0m",
      "\u001b[0;31mIndexError\u001b[0m                                Traceback (most recent call last)",
      "\u001b[0;32m<ipython-input-76-ad1355061a46>\u001b[0m in \u001b[0;36m<module>\u001b[0;34m\u001b[0m\n\u001b[0;32m----> 1\u001b[0;31m \u001b[0mint\u001b[0m\u001b[0;34m(\u001b[0m\u001b[0mpositions\u001b[0m\u001b[0;34m[\u001b[0m\u001b[0;36m0\u001b[0m\u001b[0;34m,\u001b[0m\u001b[0;34m:\u001b[0m\u001b[0;34m]\u001b[0m\u001b[0;34m)\u001b[0m \u001b[0;34m-\u001b[0m \u001b[0mint\u001b[0m\u001b[0;34m(\u001b[0m\u001b[0mstartLocation\u001b[0m\u001b[0;34m[\u001b[0m\u001b[0;36m0\u001b[0m\u001b[0;34m]\u001b[0m\u001b[0;34m)\u001b[0m\u001b[0;34m\u001b[0m\u001b[0;34m\u001b[0m\u001b[0m\n\u001b[0m",
      "\u001b[0;31mIndexError\u001b[0m: list index out of range"
     ]
    }
   ],
   "source": [
    "int(positions[0,:]) - int(startLocation[0])"
   ]
  },
  {
   "cell_type": "code",
   "execution_count": null,
   "metadata": {},
   "outputs": [],
   "source": []
  },
  {
   "cell_type": "code",
   "execution_count": 63,
   "metadata": {},
   "outputs": [
    {
     "ename": "IndexError",
     "evalue": "list index out of range",
     "output_type": "error",
     "traceback": [
      "\u001b[0;31m---------------------------------------------------------------------------\u001b[0m",
      "\u001b[0;31mIndexError\u001b[0m                                Traceback (most recent call last)",
      "\u001b[0;32m<ipython-input-63-5ffd2ce4f1c8>\u001b[0m in \u001b[0;36m<module>\u001b[0;34m\u001b[0m\n\u001b[0;32m----> 1\u001b[0;31m \u001b[0mSurfaceProjection\u001b[0m\u001b[0;34m(\u001b[0m\u001b[0mrawImage\u001b[0m\u001b[0;34m)\u001b[0m\u001b[0;34m\u001b[0m\u001b[0;34m\u001b[0m\u001b[0m\n\u001b[0m",
      "\u001b[0;32m<ipython-input-62-e39e3bb7c76c>\u001b[0m in \u001b[0;36mSurfaceProjection\u001b[0;34m(rawImage)\u001b[0m\n\u001b[1;32m     34\u001b[0m             \u001b[0mstartLocation\u001b[0m \u001b[0;34m=\u001b[0m \u001b[0mpositions\u001b[0m\u001b[0;34m[\u001b[0m\u001b[0;36m0\u001b[0m\u001b[0;34m,\u001b[0m\u001b[0;34m:\u001b[0m\u001b[0;34m]\u001b[0m\u001b[0;34m\u001b[0m\u001b[0;34m\u001b[0m\u001b[0m\n\u001b[1;32m     35\u001b[0m         \u001b[0;32melse\u001b[0m\u001b[0;34m:\u001b[0m\u001b[0;34m\u001b[0m\u001b[0;34m\u001b[0m\u001b[0m\n\u001b[0;32m---> 36\u001b[0;31m             \u001b[0mdistances\u001b[0m \u001b[0;34m=\u001b[0m \u001b[0msqrt\u001b[0m\u001b[0;34m(\u001b[0m\u001b[0;34m(\u001b[0m\u001b[0mpositions\u001b[0m\u001b[0;34m[\u001b[0m\u001b[0;36m0\u001b[0m\u001b[0;34m,\u001b[0m\u001b[0;34m:\u001b[0m\u001b[0;34m]\u001b[0m \u001b[0;34m-\u001b[0m \u001b[0mstartLocation\u001b[0m\u001b[0;34m[\u001b[0m\u001b[0;36m0\u001b[0m\u001b[0;34m]\u001b[0m\u001b[0;34m)\u001b[0m\u001b[0;34m^\u001b[0m\u001b[0;36m2\u001b[0m \u001b[0;34m+\u001b[0m \u001b[0;34m(\u001b[0m\u001b[0mpositions\u001b[0m\u001b[0;34m[\u001b[0m\u001b[0;34m:\u001b[0m\u001b[0;34m,\u001b[0m\u001b[0;36m0\u001b[0m\u001b[0;34m]\u001b[0m \u001b[0;34m-\u001b[0m \u001b[0mstartLocation\u001b[0m\u001b[0;34m[\u001b[0m\u001b[0;36m1\u001b[0m\u001b[0;34m]\u001b[0m\u001b[0;34m)\u001b[0m\u001b[0;34m^\u001b[0m\u001b[0;36m2\u001b[0m\u001b[0;34m)\u001b[0m\u001b[0;34m\u001b[0m\u001b[0;34m\u001b[0m\u001b[0m\n\u001b[0m\u001b[1;32m     37\u001b[0m             \u001b[0;34m[\u001b[0m\u001b[0mminDist\u001b[0m\u001b[0;34m,\u001b[0m \u001b[0mminIndex\u001b[0m\u001b[0;34m]\u001b[0m \u001b[0;34m=\u001b[0m \u001b[0mmin\u001b[0m\u001b[0;34m(\u001b[0m\u001b[0mdistances\u001b[0m\u001b[0;34m)\u001b[0m\u001b[0;34m\u001b[0m\u001b[0;34m\u001b[0m\u001b[0m\n\u001b[1;32m     38\u001b[0m             \u001b[0mstartLocation\u001b[0m \u001b[0;34m=\u001b[0m \u001b[0mpositions\u001b[0m\u001b[0;34m[\u001b[0m\u001b[0mminIndex\u001b[0m\u001b[0;34m,\u001b[0m\u001b[0;34m:\u001b[0m\u001b[0;34m]\u001b[0m\u001b[0;34m\u001b[0m\u001b[0;34m\u001b[0m\u001b[0m\n",
      "\u001b[0;31mIndexError\u001b[0m: list index out of range"
     ]
    }
   ],
   "source": [
    "SurfaceProjection(rawImage)"
   ]
  },
  {
   "cell_type": "code",
   "execution_count": null,
   "metadata": {},
   "outputs": [],
   "source": []
  },
  {
   "cell_type": "code",
   "execution_count": 4,
   "metadata": {},
   "outputs": [],
   "source": [
    "## open the current raw image file\n",
    "rawImage = io.imread('Data/GAP43mCardinal_Embryo1_T0.tif', plugin='pil')\n",
    "rawImage = rawImage[:,200:230,:] ## crop if needed\n",
    "##set border part to zero to prevent masks touching the border.\n",
    "maskImage = io.imread('Data/Masked/GAP43mCardinal_Embryo1_T0_Masked.tif', plugin='pil') > 0\n",
    "maskImage = maskImage[:,200:230,:] ## crop if needed"
   ]
  },
  {
   "cell_type": "code",
   "execution_count": 9,
   "metadata": {},
   "outputs": [
    {
     "name": "stdout",
     "output_type": "stream",
     "text": [
      "0 258885\n",
      "148 272862\n",
      "1227 82033\n"
     ]
    }
   ],
   "source": [
    "outerSurface,innerSurface = SurfaceExtraction(maskImage,rawImage)"
   ]
  },
  {
   "cell_type": "markdown",
   "metadata": {},
   "source": [
    "##get the image size\n",
    "imageSize = rawImage.shape\n",
    "\n",
    "            %% initialize the result image and the start location\n",
    "            resultImage = zeros(imageSize(3), 3000);    \n",
    "            startLocation = [];\n",
    "\n",
    "            %% extract the valid peel pixels\n",
    "            for i=1:imageSize(3)\n",
    "\n",
    "                %% get the current slice and skeletonize the peel to have only one pixel thick boundaries\n",
    "                %% use the peel to mask the raw image\n",
    "                currentSlice = squeeze(rawImage(:,:,i));            \n",
    "                currentSliceBinary = bwmorph(currentSlice > 0, 'skel', Inf);\n",
    "                currentSlice = double(currentSlice) .* double(currentSliceBinary);\n",
    "                sliceSize = size(currentSlice);\n",
    "                \n",
    "                %% initialize the visited pixels array and extract the valid pixels\n",
    "                visitedPixels = zeros(sliceSize);\n",
    "                validPixels = find(currentSlice > 0);\n",
    "                [xpos, ypos] = ind2sub(sliceSize, validPixels);\n",
    "                positions = sortrows([xpos, ypos], [-2,1]);\n",
    "\n",
    "                %% set the start location as the lowest, right-most mask pixel\n",
    "                %% start positions at subsequent slices are based on a nearest neighbor search to the previous location\n",
    "                if (isempty(startLocation))\n",
    "                    startLocation = positions(1,:);\n",
    "                else\n",
    "                    distances = sqrt((positions(:,1) - startLocation(1)).^2 + (positions(:,2) - startLocation(2)).^2);\n",
    "                    [minDist, minIndex] = min(distances);\n",
    "                    startLocation = positions(minIndex,:);\n",
    "                end\n",
    "                previousNeighbor = 1;\n",
    "\n",
    "                %% scan the peel using only a single consistent scan direction for all peels.\n",
    "                positionQueue = [startLocation, 1];\n",
    "                while ~isempty(positionQueue)\n",
    "                    \n",
    "                    %% get the current position from the queue and remove the top entry\n",
    "                    currentPosition = positionQueue(1,:);\n",
    "                    positionQueue(1,:) = [];\n",
    "\n",
    "                    %% set the intensity value of the current peel position to the results image\n",
    "                    resultImage(i, floor(currentPosition(3))) = currentSlice(currentPosition(1), currentPosition(2));\n",
    "                    resultImage(i, ceil(currentPosition(3))) = currentSlice(currentPosition(1), currentPosition(2));\n",
    "                   \n",
    "                    %% plot progress pixel by pixel if debug figres are enabled\n",
    "                    if (debugFigures == true)\n",
    "                        figure(1); clf; hold on;\n",
    "                        imagesc(currentSlice);\n",
    "                        plot(currentPosition(2), currentPosition(1), '*r');\n",
    "                    end\n",
    "\n",
    "                    %% set current position to visited\n",
    "                    if (visitedPixels(currentPosition(1), currentPosition(2)) > 0)\n",
    "                        continue;\n",
    "                    end\n",
    "                    \n",
    "                    %% perform boundary tracing using Moore's algorithm (CCW)\n",
    "                    nextIndices = [];\n",
    "                    for n=0:7\n",
    "                        \n",
    "                        %% compute the potential next neighbor in CCW fashion\n",
    "                        potentialNeighbor = mod(previousNeighbor-1 + n, 8) + 1;\n",
    "                        \n",
    "                        %% get the displacements of the neighbors from the LUT\n",
    "                        j = neighborList(potentialNeighbor, 1);\n",
    "                        k = neighborList(potentialNeighbor, 2);\n",
    "                        \n",
    "                        % prevent out of bounds errors\n",
    "                        if ((currentPosition(1)+j) < 1 || ...\n",
    "                            (currentPosition(1)+j) > sliceSize(1) || ...\n",
    "                            (currentPosition(2)+k) < 1 || ...\n",
    "                            (currentPosition(2)+k) > sliceSize(2) || ...\n",
    "                            (j == 0 && k == 0))\n",
    "                            continue;\n",
    "                        end\n",
    "                        \n",
    "                        %% plot candidate search if enabled\n",
    "                        if (debugFigures == true)\n",
    "                            plot(currentPosition(2)+k, currentPosition(1)+j, '.r');\n",
    "                        end\n",
    "\n",
    "                        %% continue if the candidate was already visited before\n",
    "                        if (visitedPixels(currentPosition(1)+j, currentPosition(2)+k) > 0)\n",
    "                            continue;\n",
    "                        end\n",
    "\n",
    "                        %% select the minimum distance candidate in the correct direction\n",
    "                        if (currentSlice(currentPosition(1)+j, currentPosition(2)+k) > 0)\n",
    "                            nextIndices = [j, k];\n",
    "                            previousNeighbor = find(neighborList(:,1) == -j & neighborList(:,2) == -k);\n",
    "                            \n",
    "                            if (debugFigures == true)\n",
    "                                plot(currentPosition(2)+k, currentPosition(1)+j, 'og');\n",
    "                            end\n",
    "                            break;\n",
    "                        end \n",
    "                    end\n",
    "\n",
    "                    %% add the identified closest neighbor to the queue and reset the last direction\n",
    "                    if (~isempty(nextIndices))\n",
    "                        positionQueue = unique([positionQueue; currentPosition(1)+nextIndices(1), currentPosition(2)+nextIndices(2), currentPosition(3) + sqrt(nextIndices(1)^2 + nextIndices(2)^2)], 'rows');\n",
    "                        previousNeighbor = 1;\n",
    "                    end\n",
    "\n",
    "                    %% set current position to visited\n",
    "                    visitedPixels(currentPosition(1), currentPosition(2)) = 1;\n",
    "\n",
    "                    if (debugFigures == true)\n",
    "                        drawnow;\n",
    "                    end\n",
    "                end\n",
    "\n",
    "                %% status\n",
    "                disp(['Finished processing ' num2str(i) ' / ' num2str(imageSize(3)) ' slices ...']);\n",
    "            end\n"
   ]
  }
 ],
 "metadata": {
  "kernelspec": {
   "display_name": "Python 3",
   "language": "python",
   "name": "python3"
  },
  "language_info": {
   "codemirror_mode": {
    "name": "ipython",
    "version": 3
   },
   "file_extension": ".py",
   "mimetype": "text/x-python",
   "name": "python",
   "nbconvert_exporter": "python",
   "pygments_lexer": "ipython3",
   "version": "3.7.4"
  }
 },
 "nbformat": 4,
 "nbformat_minor": 2
}
